{
 "cells": [
  {
   "cell_type": "code",
   "execution_count": 5,
   "metadata": {
    "ExecuteTime": {
     "end_time": "2019-07-18T10:50:02.525429Z",
     "start_time": "2019-07-18T10:50:02.521559Z"
    }
   },
   "outputs": [],
   "source": [
    "# Imports.\n",
    "import re"
   ]
  },
  {
   "cell_type": "code",
   "execution_count": 6,
   "metadata": {
    "ExecuteTime": {
     "end_time": "2019-07-18T10:50:42.061053Z",
     "start_time": "2019-07-18T10:50:42.049822Z"
    }
   },
   "outputs": [],
   "source": [
    "# Loading in a file as csv.\n",
    "file = open(\"klebsiella_vgrg1_output.csv\", \"r\")\n",
    "file = file.read().replace(\"\\n\", \"\").split(',')\n",
    "# First part of the file, the sequence\n",
    "sequence = file[0]\n",
    "# Second part of the file, the properties of the sequence\n",
    "properties = file[1]"
   ]
  },
  {
   "cell_type": "code",
   "execution_count": 7,
   "metadata": {
    "ExecuteTime": {
     "end_time": "2019-07-18T10:50:42.633237Z",
     "start_time": "2019-07-18T10:50:42.628055Z"
    }
   },
   "outputs": [],
   "source": [
    "# Colours used.\n",
    "class colour:\n",
    "    BOLD = '\\033[1m' # Bold\n",
    "    END = '\\033[0m' # Normal end/reset\n",
    "    REDB = '\\x1b[41m' # Red background\n",
    "    ENDB = '\\x1b[49m' # Background end/reset"
   ]
  },
  {
   "cell_type": "code",
   "execution_count": 8,
   "metadata": {
    "ExecuteTime": {
     "end_time": "2019-07-18T10:50:45.368588Z",
     "start_time": "2019-07-18T10:50:43.567497Z"
    }
   },
   "outputs": [
    {
     "name": "stdout",
     "output_type": "stream",
     "text": [
      "Where does the sequences start? 551\n"
     ]
    }
   ],
   "source": [
    "# User input for where the sequences starts (for example in Bodil)\n",
    "try:\n",
    "    start = int(input(\"Where does the sequences start? \"))\n",
    "except ValueError:\n",
    "    print(\"You need to type in a number where the sequence starts..\")"
   ]
  },
  {
   "cell_type": "code",
   "execution_count": 9,
   "metadata": {
    "ExecuteTime": {
     "end_time": "2019-07-18T10:50:46.620829Z",
     "start_time": "2019-07-18T10:50:46.607396Z"
    }
   },
   "outputs": [],
   "source": [
    "# Algorithm to add a red background to motif/sequence locations.\n",
    "def addColour(file):\n",
    "    \n",
    "    # prev_index is for keeping track of the previous index\n",
    "    prev_index = 0\n",
    "    listToColour = [] # <- the list\n",
    "    \n",
    "    # The algorithm itself.\n",
    "    # 0: looping from 0 to the length of variable index_start.\n",
    "    # 1-2: if it IS the first iteration of the loop it appends the beginning of the string to the list.\n",
    "    # 3: appends the found motif to the list and colours it.\n",
    "    # 4-5: if it is NOT the last iteration of the loop, append from the previous index (prev_index) \n",
    "    # to the beginning of the first index of the next iteration (hence the +1 in index_start[i]).\n",
    "    # 6-7: if it IS the last iteration append the end of the string to the list.\n",
    "    # 8: add +1 to prev_index\n",
    "    \n",
    "    for i in range(len(index_start)): # 0\n",
    "        if i == 0: # 1\n",
    "            listToColour.append(colour.ENDB + file[:index_start[i]]) # 2 \n",
    "        listToColour.append(colour.REDB + file[index_start[i]:index_end[i]] + colour.ENDB) # 3\n",
    "        if i != (len(index_start)-1): # 4\n",
    "            listToColour.append(file[index_end[prev_index]:index_start[i+1]]) # 5\n",
    "        if i == (len(index_start)-1): # 6\n",
    "            listToColour.append(file[index_end[i]:]) # 7\n",
    "        prev_index+=1 # 8\n",
    "    \n",
    "    # Joining the list into a string to make it printable.\n",
    "    colouredString = \"\".join(listToColour)\n",
    "\n",
    "    return colouredString"
   ]
  },
  {
   "cell_type": "code",
   "execution_count": 10,
   "metadata": {
    "ExecuteTime": {
     "end_time": "2019-07-18T10:51:19.206702Z",
     "start_time": "2019-07-18T10:51:18.130274Z"
    }
   },
   "outputs": [
    {
     "name": "stdout",
     "output_type": "stream",
     "text": [
      "\u001b[1mh = Hydrophobic\n",
      "s = Small\n",
      "p = Polar\n",
      "N = Negatively charged\n",
      "P = Positively charged\n",
      "L = Largest\n",
      "g = gap\n",
      ". = Anything\n",
      "\u001b[0m\n",
      "What motif do you want to find?: h\n",
      "The motif \u001b[41mh\u001b[49m was found on:\n",
      "\n",
      "Position 561-561\n",
      "Position 564-564\n",
      "Position 571-571\n",
      "Position 581-581\n",
      "Position 595-595\n",
      "Position 601-601\n",
      "Position 602-602\n",
      "Position 606-606\n",
      "Position 609-609\n",
      "Position 614-614\n",
      "Position 615-615\n",
      "Position 616-616\n",
      "Position 619-619\n",
      "Position 630-630\n",
      "Position 632-632\n",
      "Position 638-638\n",
      "Position 639-639\n",
      "Position 651-651\n",
      "Position 655-655\n",
      "\n",
      "\u001b[49mADGQEKAQGQ\u001b[41mV\u001b[49mLE\u001b[41mM\u001b[49mAAAIAQ\u001b[41mL\u001b[49mENALSQMKA\u001b[41mL\u001b[49mSQDAETAKADPAD\u001b[41mL\u001b[49mQSQVT\u001b[41mL\u001b[49m\u001b[41mL\u001b[49mEEK\u001b[41mL\u001b[49mKD\u001b[41mL\u001b[49mKQAA\u001b[41mI\u001b[49m\u001b[41mL\u001b[49m\u001b[41mL\u001b[49mSA\u001b[41mP\u001b[49mKGVGIASGEH\u001b[41mL\u001b[49mQ\u001b[41mL\u001b[49mSAGEN\u001b[41mL\u001b[49m\u001b[41mI\u001b[49mA-AAGKNADIS\u001b[41mV\u001b[49mVKK\u001b[41mF\u001b[49mFIGAGEA\n",
      "\n",
      "\u001b[49msNxpxPspsp\u001b[41mh\u001b[49mxN\u001b[41mh\u001b[49mxssxxx\u001b[41mh\u001b[49mxxsxspxxx\u001b[41mh\u001b[49msxxsNxsxsxxsN\u001b[41mh\u001b[49mxxpxx\u001b[41mh\u001b[49m\u001b[41mh\u001b[49mxxx\u001b[41mh\u001b[49mxx\u001b[41mh\u001b[49mxpsx\u001b[41mh\u001b[49m\u001b[41mh\u001b[49m\u001b[41mh\u001b[49mss\u001b[41mh\u001b[49mxsxxxxsxNx\u001b[41mh\u001b[49mp\u001b[41mh\u001b[49msssxp\u001b[41mh\u001b[49m\u001b[41mh\u001b[49mxgxssxpsNxs\u001b[41mh\u001b[49mxPx\u001b[41mh\u001b[49mxxxxsxs\n"
     ]
    }
   ],
   "source": [
    "# User input for what motif they want to find.\n",
    "print(f'{colour.BOLD}h = Hydrophobic\\ns = Small\\np = Polar\\nN = Negatively charged\\nP = Positively charged\\nL = Largest\\ng = gap\\n. = Anything\\n{colour.END}')\n",
    "motif = input(\"What motif do you want to find?: \")\n",
    "pattern = re.compile(motif)\n",
    "\n",
    "index_start = []\n",
    "index_end = []\n",
    "\n",
    "# Finding the position(s) of the motif.\n",
    "print('The motif {} was found on:\\n'.format(colour.REDB + motif + colour.ENDB))\n",
    "for p in pattern.finditer(properties):\n",
    "    # Printing users input and the motif position(s).\n",
    "    print(f'Position {int(start)+p.start()}-{int(start)+p.end()-1}')\n",
    "    index_start.append(p.start())\n",
    "    index_end.append(p.end())\n",
    "\n",
    "colouredSequence = addColour(sequence)\n",
    "colouredMotif = addColour(properties)\n",
    "\n",
    "#Printing the results and comparing it to the original sequence.\n",
    "print(f'\\n{colouredSequence}\\n\\n{colouredMotif}')"
   ]
  },
  {
   "cell_type": "code",
   "execution_count": null,
   "metadata": {},
   "outputs": [],
   "source": []
  }
 ],
 "metadata": {
  "kernelspec": {
   "display_name": "Python 3",
   "language": "python",
   "name": "python3"
  },
  "language_info": {
   "codemirror_mode": {
    "name": "ipython",
    "version": 3
   },
   "file_extension": ".py",
   "mimetype": "text/x-python",
   "name": "python",
   "nbconvert_exporter": "python",
   "pygments_lexer": "ipython3",
   "version": "3.7.5"
  },
  "notify_time": "5"
 },
 "nbformat": 4,
 "nbformat_minor": 2
}
